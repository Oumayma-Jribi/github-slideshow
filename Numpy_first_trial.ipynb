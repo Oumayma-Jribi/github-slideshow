{
  "nbformat": 4,
  "nbformat_minor": 0,
  "metadata": {
    "colab": {
      "name": "Numpy first trial",
      "provenance": [],
      "authorship_tag": "ABX9TyPlkvAEgZBNes23vEANzQ6y",
      "include_colab_link": true
    },
    "kernelspec": {
      "name": "python3",
      "display_name": "Python 3"
    },
    "language_info": {
      "name": "python"
    }
  },
  "cells": [
    {
      "cell_type": "markdown",
      "metadata": {
        "id": "view-in-github",
        "colab_type": "text"
      },
      "source": [
        "<a href=\"https://colab.research.google.com/github/Oumayma-Jribi/github-slideshow/blob/my-slide/Numpy_first_trial.ipynb\" target=\"_parent\"><img src=\"https://colab.research.google.com/assets/colab-badge.svg\" alt=\"Open In Colab\"/></a>"
      ]
    },
    {
      "cell_type": "code",
      "execution_count": 1,
      "metadata": {
        "id": "7ZutfK9DxhtB"
      },
      "outputs": [],
      "source": [
        "import numpy as np"
      ]
    },
    {
      "cell_type": "code",
      "source": [
        "first_array = np.array([1,2,3])\n",
        "print(first_array)"
      ],
      "metadata": {
        "colab": {
          "base_uri": "https://localhost:8080/"
        },
        "id": "XNrdbQs6x7z0",
        "outputId": "3345173b-7bdc-4c0c-d86d-95e04781d8b1"
      },
      "execution_count": 3,
      "outputs": [
        {
          "output_type": "stream",
          "name": "stdout",
          "text": [
            "[1 2 3]\n"
          ]
        }
      ]
    },
    {
      "cell_type": "code",
      "source": [
        "np.zeros(10, dtype=int)"
      ],
      "metadata": {
        "colab": {
          "base_uri": "https://localhost:8080/"
        },
        "id": "X9o_kysZ0ber",
        "outputId": "84f94100-87e0-4c2a-c96c-62af41c8e3a3"
      },
      "execution_count": 9,
      "outputs": [
        {
          "output_type": "execute_result",
          "data": {
            "text/plain": [
              "array([0, 0, 0, 0, 0, 0, 0, 0, 0, 0])"
            ]
          },
          "metadata": {},
          "execution_count": 9
        }
      ]
    },
    {
      "cell_type": "markdown",
      "source": [
        "np.arange includes lower bound but not the upper bound"
      ],
      "metadata": {
        "id": "njIpuBFU6-Kc"
      }
    },
    {
      "cell_type": "code",
      "source": [
        "np.arange(5,12)"
      ],
      "metadata": {
        "colab": {
          "base_uri": "https://localhost:8080/"
        },
        "id": "KAusYGyY6sX1",
        "outputId": "a635ab87-ac33-464e-bbf2-5dc5ce307b8e"
      },
      "execution_count": 10,
      "outputs": [
        {
          "output_type": "execute_result",
          "data": {
            "text/plain": [
              "array([ 5,  6,  7,  8,  9, 10, 11])"
            ]
          },
          "metadata": {},
          "execution_count": 10
        }
      ]
    },
    {
      "cell_type": "code",
      "source": [
        "np.random.randint(low=50, high=101, size=(6))"
      ],
      "metadata": {
        "colab": {
          "base_uri": "https://localhost:8080/"
        },
        "id": "Ljkyz75a7LDd",
        "outputId": "28a09c49-4ad0-4b30-a5f9-8dd569e9bb30"
      },
      "execution_count": 11,
      "outputs": [
        {
          "output_type": "execute_result",
          "data": {
            "text/plain": [
              "array([79, 90, 66, 62, 84, 97])"
            ]
          },
          "metadata": {},
          "execution_count": 11
        }
      ]
    },
    {
      "cell_type": "markdown",
      "source": [
        "random numbers between 0 and 1"
      ],
      "metadata": {
        "id": "GbpPTrDz7Zaz"
      }
    },
    {
      "cell_type": "code",
      "source": [
        "np.random.random([3])+2"
      ],
      "metadata": {
        "colab": {
          "base_uri": "https://localhost:8080/"
        },
        "id": "crZqrMrd7cO4",
        "outputId": "82c9400e-eb8c-4e2d-9617-802f1b564ce5"
      },
      "execution_count": 14,
      "outputs": [
        {
          "output_type": "execute_result",
          "data": {
            "text/plain": [
              "array([2.55726042, 2.7522868 , 2.33854649])"
            ]
          },
          "metadata": {},
          "execution_count": 14
        }
      ]
    }
  ]
}